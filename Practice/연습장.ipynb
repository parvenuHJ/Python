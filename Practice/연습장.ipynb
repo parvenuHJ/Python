{
 "cells": [
  {
   "cell_type": "markdown",
   "id": "3642d96a",
   "metadata": {},
   "source": []
  },
  {
   "cell_type": "code",
   "execution_count": 1,
   "id": "37d9b381",
   "metadata": {},
   "outputs": [],
   "source": [
    "import random as rd"
   ]
  },
  {
   "cell_type": "code",
   "execution_count": 10,
   "id": "50281448",
   "metadata": {},
   "outputs": [
    {
     "data": {
      "text/plain": [
       "10"
      ]
     },
     "execution_count": 10,
     "metadata": {},
     "output_type": "execute_result"
    }
   ],
   "source": [
    "a = rd.randint(1,10)\n",
    "a"
   ]
  },
  {
   "cell_type": "code",
   "execution_count": 12,
   "id": "39f02c15",
   "metadata": {},
   "outputs": [
    {
     "data": {
      "text/plain": [
       "'good'"
      ]
     },
     "execution_count": 12,
     "metadata": {},
     "output_type": "execute_result"
    }
   ],
   "source": [
    "score = 80\n",
    "'good' if score >= 60 else 'bad'\n",
    "# a if 조건식 else b -> 참일때 a, 거짓일 때 b"
   ]
  },
  {
   "cell_type": "code",
   "execution_count": 13,
   "id": "8d243f48",
   "metadata": {},
   "outputs": [
    {
     "name": "stdout",
     "output_type": "stream",
     "text": [
      "['a', 'b', 'c']\n"
     ]
    }
   ],
   "source": [
    "list2 = [1,2,3,['a','b','c']]\n",
    "print(list2[3])"
   ]
  },
  {
   "cell_type": "code",
   "execution_count": 17,
   "id": "63388226",
   "metadata": {},
   "outputs": [
    {
     "data": {
      "text/plain": [
       "['사과', '딸기', '배', '포도', '복숭아']"
      ]
     },
     "execution_count": 17,
     "metadata": {},
     "output_type": "execute_result"
    }
   ],
   "source": [
    "list_fruit=['사과','배','포도']\n",
    "list_fruit.append('복숭아')\n",
    "list_fruit.insert(1,'딸기')\n",
    "list_fruit"
   ]
  },
  {
   "cell_type": "markdown",
   "id": "e0b23f8f",
   "metadata": {},
   "source": [
    "ndarray \n",
    "수치계산을 위한 핵심 라이브러리\n",
    "행 열 계산에 최적화 된 패키지를 보유\n",
    "Nmerical Python 의 줄임말\n",
    "1. 다양한 수학함수 지원\n",
    "2. 빠른 연산 속도\n",
    "3. 브로드 캐스팅\n",
    "4. 1차원, 2차원, 3차원 등 다양한 차원의 배열 지원\n",
    "\n",
    "동일한 데이터 타입만 가능\n",
    "\n",
    "numpy 라이브러리\n",
    "Numerical Python 약자\n",
    "수치계산을 위한 핵심 라이브러리\n",
    "ndarray = N-dimensional array \n",
    "\n"
   ]
  },
  {
   "cell_type": "code",
   "execution_count": 18,
   "id": "d461e283",
   "metadata": {},
   "outputs": [],
   "source": [
    "import numpy as np"
   ]
  },
  {
   "cell_type": "code",
   "execution_count": 19,
   "id": "20969745",
   "metadata": {},
   "outputs": [
    {
     "data": {
      "text/plain": [
       "array([1, 2, 3, 4])"
      ]
     },
     "execution_count": 19,
     "metadata": {},
     "output_type": "execute_result"
    }
   ],
   "source": [
    "# ndarray 생성하기 : 1차원 리스트 데이터를 array화로 형변환 하는 방법\n",
    "# list -> array \n",
    "list1 = [1,2,3,4]\n",
    "arr1 = np.array(list1)\n",
    "arr1"
   ]
  },
  {
   "cell_type": "code",
   "execution_count": 20,
   "id": "9d3e3c5b",
   "metadata": {},
   "outputs": [
    {
     "data": {
      "text/plain": [
       "numpy.ndarray"
      ]
     },
     "execution_count": 20,
     "metadata": {},
     "output_type": "execute_result"
    }
   ],
   "source": [
    "type(arr1)"
   ]
  },
  {
   "cell_type": "code",
   "execution_count": 21,
   "id": "9359338c",
   "metadata": {},
   "outputs": [
    {
     "data": {
      "text/plain": [
       "array([ 6,  7,  8,  9, 10])"
      ]
     },
     "execution_count": 21,
     "metadata": {},
     "output_type": "execute_result"
    }
   ],
   "source": [
    "arr2 = np.array([6,7,8,9,10])\n",
    "arr2"
   ]
  },
  {
   "cell_type": "code",
   "execution_count": 22,
   "id": "8b24579e",
   "metadata": {},
   "outputs": [
    {
     "data": {
      "text/plain": [
       "array([[1, 2, 3],\n",
       "       [4, 5, 6]])"
      ]
     },
     "execution_count": 22,
     "metadata": {},
     "output_type": "execute_result"
    }
   ],
   "source": [
    "arr3 = np.array([[1,2,3],[4,5,6]])\n",
    "arr3"
   ]
  },
  {
   "cell_type": "code",
   "execution_count": 23,
   "id": "7ca9f4bc",
   "metadata": {},
   "outputs": [
    {
     "data": {
      "text/plain": [
       "1"
      ]
     },
     "execution_count": 23,
     "metadata": {},
     "output_type": "execute_result"
    }
   ],
   "source": [
    "arr1.ndim"
   ]
  },
  {
   "cell_type": "code",
   "execution_count": 24,
   "id": "f22bd3e0",
   "metadata": {},
   "outputs": [
    {
     "data": {
      "text/plain": [
       "(4,)"
      ]
     },
     "execution_count": 24,
     "metadata": {},
     "output_type": "execute_result"
    }
   ],
   "source": [
    "arr1.shape"
   ]
  },
  {
   "cell_type": "code",
   "execution_count": 25,
   "id": "d702da1c",
   "metadata": {},
   "outputs": [
    {
     "data": {
      "text/plain": [
       "4"
      ]
     },
     "execution_count": 25,
     "metadata": {},
     "output_type": "execute_result"
    }
   ],
   "source": [
    "arr1.size"
   ]
  },
  {
   "cell_type": "code",
   "execution_count": 26,
   "id": "be6b888d",
   "metadata": {},
   "outputs": [
    {
     "data": {
      "text/plain": [
       "4"
      ]
     },
     "execution_count": 26,
     "metadata": {},
     "output_type": "execute_result"
    }
   ],
   "source": [
    "len(arr1)"
   ]
  },
  {
   "cell_type": "code",
   "execution_count": 27,
   "id": "87b9b115",
   "metadata": {},
   "outputs": [
    {
     "data": {
      "text/plain": [
       "array([[1, 2, 3],\n",
       "       [4, 5, 6]])"
      ]
     },
     "execution_count": 27,
     "metadata": {},
     "output_type": "execute_result"
    }
   ],
   "source": [
    "arr3"
   ]
  },
  {
   "cell_type": "code",
   "execution_count": 28,
   "id": "23e7d510",
   "metadata": {},
   "outputs": [
    {
     "data": {
      "text/plain": [
       "6"
      ]
     },
     "execution_count": 28,
     "metadata": {},
     "output_type": "execute_result"
    }
   ],
   "source": [
    "arr3.size"
   ]
  },
  {
   "cell_type": "code",
   "execution_count": 29,
   "id": "5fb099e7",
   "metadata": {},
   "outputs": [
    {
     "data": {
      "text/plain": [
       "2"
      ]
     },
     "execution_count": 29,
     "metadata": {},
     "output_type": "execute_result"
    }
   ],
   "source": [
    "len(arr3)"
   ]
  },
  {
   "cell_type": "code",
   "execution_count": 30,
   "id": "7e13cc94",
   "metadata": {},
   "outputs": [],
   "source": [
    "def array_info(array):\n",
    "    print(array)\n",
    "    print('size  : ', array.size)\n",
    "    print('shape :', array.shape)\n",
    "    print('ndim : ', array.ndim)"
   ]
  },
  {
   "cell_type": "code",
   "execution_count": 31,
   "id": "2baa6328",
   "metadata": {},
   "outputs": [
    {
     "name": "stdout",
     "output_type": "stream",
     "text": [
      "[[1 2 3]\n",
      " [4 5 6]]\n",
      "size  :  6\n",
      "shape : (2, 3)\n",
      "ndim :  2\n"
     ]
    }
   ],
   "source": [
    "array_info(arr3)"
   ]
  },
  {
   "cell_type": "code",
   "execution_count": 37,
   "id": "bbc60be1",
   "metadata": {},
   "outputs": [
    {
     "name": "stdout",
     "output_type": "stream",
     "text": [
      "[[1 2 3]\n",
      " [4 5 6]]\n",
      "size  :  6\n",
      "shape : (2, 3)\n",
      "ndim :  2\n"
     ]
    },
    {
     "data": {
      "text/plain": [
       "dtype('int64')"
      ]
     },
     "execution_count": 37,
     "metadata": {},
     "output_type": "execute_result"
    }
   ],
   "source": [
    "list3 =[[1,2,3],[4,5,6]]\n",
    "temp1 = np.array(list3)\n",
    "temp1\n",
    "array_info(temp1)\n",
    "temp1.dtype\n",
    "# 타입 바꾸기\n",
    "temp2 = np.array(list3, dtype = np.int64)\n",
    "temp2.dtype"
   ]
  },
  {
   "cell_type": "code",
   "execution_count": 39,
   "id": "88ce6e01",
   "metadata": {},
   "outputs": [
    {
     "data": {
      "text/plain": [
       "dtype('float64')"
      ]
     },
     "execution_count": 39,
     "metadata": {},
     "output_type": "execute_result"
    }
   ],
   "source": [
    "temp4 = temp2.astype(np.float64)\n",
    "temp4.dtype"
   ]
  },
  {
   "cell_type": "code",
   "execution_count": 43,
   "id": "e7b7ff94",
   "metadata": {},
   "outputs": [
    {
     "data": {
      "text/plain": [
       "array([[1, 2],\n",
       "       [3, 4],\n",
       "       [5, 6]], dtype=int64)"
      ]
     },
     "execution_count": 43,
     "metadata": {},
     "output_type": "execute_result"
    }
   ],
   "source": [
    "# ndarray 특정 크기 반환\n",
    "temp5 = temp2.reshape(3,2)\n",
    "temp5"
   ]
  },
  {
   "cell_type": "code",
   "execution_count": 44,
   "id": "195213e6",
   "metadata": {},
   "outputs": [],
   "source": [
    "import pandas as pd\n",
    "import numpy as np"
   ]
  },
  {
   "cell_type": "code",
   "execution_count": 45,
   "id": "5e5b5a41",
   "metadata": {},
   "outputs": [
    {
     "name": "stdout",
     "output_type": "stream",
     "text": [
      "0    123\n",
      "1    456\n",
      "2    789\n",
      "dtype: int64\n"
     ]
    }
   ],
   "source": [
    "sr = pd.Series([123,456,789])\n",
    "print(sr)"
   ]
  },
  {
   "cell_type": "code",
   "execution_count": 47,
   "id": "ae0afa70",
   "metadata": {},
   "outputs": [
    {
     "data": {
      "text/plain": [
       "첫    123\n",
       "두    456\n",
       "세    789\n",
       "dtype: int64"
      ]
     },
     "execution_count": 47,
     "metadata": {},
     "output_type": "execute_result"
    }
   ],
   "source": [
    "sr = pd.Series([123,456,789], index = ['첫', '두','세'])\n",
    "sr"
   ]
  },
  {
   "cell_type": "code",
   "execution_count": 48,
   "id": "233ff0ac",
   "metadata": {},
   "outputs": [
    {
     "data": {
      "text/plain": [
       "array([123, 456, 789], dtype=int64)"
      ]
     },
     "execution_count": 48,
     "metadata": {},
     "output_type": "execute_result"
    }
   ],
   "source": [
    "sr.values"
   ]
  },
  {
   "cell_type": "code",
   "execution_count": 49,
   "id": "ee8e53c5",
   "metadata": {},
   "outputs": [
    {
     "data": {
      "text/plain": [
       "<PandasArray>\n",
       "[123, 456, 789]\n",
       "Length: 3, dtype: int64"
      ]
     },
     "execution_count": 49,
     "metadata": {},
     "output_type": "execute_result"
    }
   ],
   "source": [
    "sr.array"
   ]
  },
  {
   "cell_type": "code",
   "execution_count": 50,
   "id": "d6d0c8f4",
   "metadata": {},
   "outputs": [
    {
     "data": {
      "text/plain": [
       "Index(['첫', '두', '세'], dtype='object')"
      ]
     },
     "execution_count": 50,
     "metadata": {},
     "output_type": "execute_result"
    }
   ],
   "source": [
    "sr.index"
   ]
  },
  {
   "cell_type": "code",
   "execution_count": 51,
   "id": "963daf85",
   "metadata": {},
   "outputs": [
    {
     "data": {
      "text/plain": [
       "dtype('int64')"
      ]
     },
     "execution_count": 51,
     "metadata": {},
     "output_type": "execute_result"
    }
   ],
   "source": [
    "sr.dtype"
   ]
  },
  {
   "cell_type": "code",
   "execution_count": 52,
   "id": "6895284f",
   "metadata": {},
   "outputs": [
    {
     "data": {
      "text/plain": [
       "pandas.core.series.Series"
      ]
     },
     "execution_count": 52,
     "metadata": {},
     "output_type": "execute_result"
    }
   ],
   "source": [
    "type(sr)"
   ]
  },
  {
   "cell_type": "code",
   "execution_count": 54,
   "id": "bf3c6d8f",
   "metadata": {},
   "outputs": [
    {
     "data": {
      "text/plain": [
       "첫    123\n",
       "두    456\n",
       "세    789\n",
       "Name: 배열, dtype: int64"
      ]
     },
     "execution_count": 54,
     "metadata": {},
     "output_type": "execute_result"
    }
   ],
   "source": [
    "sr.name = '배열'\n",
    "sr"
   ]
  },
  {
   "cell_type": "code",
   "execution_count": 56,
   "id": "243c4201",
   "metadata": {},
   "outputs": [
    {
     "data": {
      "text/plain": [
       "순서\n",
       "첫    123\n",
       "두    456\n",
       "세    789\n",
       "Name: 배열, dtype: int64"
      ]
     },
     "execution_count": 56,
     "metadata": {},
     "output_type": "execute_result"
    }
   ],
   "source": [
    "sr.index.name = '순서'\n",
    "sr"
   ]
  },
  {
   "cell_type": "code",
   "execution_count": 61,
   "id": "408d1c91",
   "metadata": {},
   "outputs": [
    {
     "data": {
      "text/plain": [
       "순서\n",
       "첫    1230\n",
       "두    4560\n",
       "세    7890\n",
       "Name: 배열, dtype: int64"
      ]
     },
     "execution_count": 61,
     "metadata": {},
     "output_type": "execute_result"
    }
   ],
   "source": [
    "sr*10\n"
   ]
  },
  {
   "cell_type": "code",
   "execution_count": 62,
   "id": "ab242fb3",
   "metadata": {},
   "outputs": [
    {
     "data": {
      "text/plain": [
       "456"
      ]
     },
     "execution_count": 62,
     "metadata": {},
     "output_type": "execute_result"
    }
   ],
   "source": [
    "sr[1]"
   ]
  },
  {
   "cell_type": "code",
   "execution_count": 63,
   "id": "0d87638b",
   "metadata": {},
   "outputs": [
    {
     "data": {
      "text/plain": [
       "123"
      ]
     },
     "execution_count": 63,
     "metadata": {},
     "output_type": "execute_result"
    }
   ],
   "source": [
    "sr['첫']"
   ]
  },
  {
   "cell_type": "code",
   "execution_count": 65,
   "id": "9d91a5a1",
   "metadata": {},
   "outputs": [
    {
     "data": {
      "text/plain": [
       "순서\n",
       "첫    123\n",
       "세    789\n",
       "Name: 배열, dtype: int64"
      ]
     },
     "execution_count": 65,
     "metadata": {},
     "output_type": "execute_result"
    }
   ],
   "source": [
    "sr[ [0,2] ]"
   ]
  },
  {
   "cell_type": "code",
   "execution_count": 67,
   "id": "61f2cdf9",
   "metadata": {},
   "outputs": [
    {
     "data": {
      "text/plain": [
       "순서\n",
       "첫    123\n",
       "세    789\n",
       "Name: 배열, dtype: int64"
      ]
     },
     "execution_count": 67,
     "metadata": {},
     "output_type": "execute_result"
    }
   ],
   "source": [
    "sr[['첫','세']]"
   ]
  },
  {
   "cell_type": "code",
   "execution_count": 68,
   "id": "75863107",
   "metadata": {},
   "outputs": [
    {
     "data": {
      "text/plain": [
       "123"
      ]
     },
     "execution_count": 68,
     "metadata": {},
     "output_type": "execute_result"
    }
   ],
   "source": [
    "sr.iloc[0]"
   ]
  },
  {
   "cell_type": "code",
   "execution_count": 69,
   "id": "8d2a266d",
   "metadata": {},
   "outputs": [
    {
     "data": {
      "text/plain": [
       "순서\n",
       "첫    123\n",
       "Name: 배열, dtype: int64"
      ]
     },
     "execution_count": 69,
     "metadata": {},
     "output_type": "execute_result"
    }
   ],
   "source": [
    "sr.iloc[0:1]"
   ]
  },
  {
   "cell_type": "code",
   "execution_count": 70,
   "id": "44977a16",
   "metadata": {},
   "outputs": [
    {
     "data": {
      "text/plain": [
       "123"
      ]
     },
     "execution_count": 70,
     "metadata": {},
     "output_type": "execute_result"
    }
   ],
   "source": [
    "sr.loc['첫']"
   ]
  },
  {
   "cell_type": "code",
   "execution_count": 72,
   "id": "139fb2e2",
   "metadata": {},
   "outputs": [
    {
     "data": {
      "text/plain": [
       "순서\n",
       "첫    123\n",
       "두    456\n",
       "세    789\n",
       "Name: 배열, dtype: int64"
      ]
     },
     "execution_count": 72,
     "metadata": {},
     "output_type": "execute_result"
    }
   ],
   "source": [
    "sr.loc['첫':'세']"
   ]
  },
  {
   "cell_type": "code",
   "execution_count": 73,
   "id": "0ceb8e32",
   "metadata": {},
   "outputs": [
    {
     "data": {
      "text/plain": [
       "순서\n",
       "첫    123\n",
       "두    456\n",
       "세    789\n",
       "Name: 배열, dtype: int64"
      ]
     },
     "execution_count": 73,
     "metadata": {},
     "output_type": "execute_result"
    }
   ],
   "source": [
    "sr.loc['첫':]"
   ]
  },
  {
   "cell_type": "code",
   "execution_count": null,
   "id": "efa23a1b",
   "metadata": {},
   "outputs": [],
   "source": [
    "sr."
   ]
  },
  {
   "cell_type": "code",
   "execution_count": null,
   "id": "12648516",
   "metadata": {},
   "outputs": [],
   "source": []
  },
  {
   "cell_type": "code",
   "execution_count": null,
   "id": "64d2f847",
   "metadata": {},
   "outputs": [],
   "source": []
  },
  {
   "cell_type": "code",
   "execution_count": null,
   "id": "e6e8fd36",
   "metadata": {},
   "outputs": [],
   "source": []
  },
  {
   "cell_type": "code",
   "execution_count": null,
   "id": "6ed94811",
   "metadata": {},
   "outputs": [],
   "source": []
  },
  {
   "cell_type": "code",
   "execution_count": null,
   "id": "493c74e7",
   "metadata": {},
   "outputs": [],
   "source": []
  },
  {
   "cell_type": "code",
   "execution_count": null,
   "id": "79602238",
   "metadata": {},
   "outputs": [],
   "source": []
  },
  {
   "cell_type": "code",
   "execution_count": null,
   "id": "70ebd057",
   "metadata": {},
   "outputs": [],
   "source": []
  },
  {
   "cell_type": "code",
   "execution_count": null,
   "id": "5e33b6f7",
   "metadata": {},
   "outputs": [],
   "source": []
  }
 ],
 "metadata": {
  "kernelspec": {
   "display_name": "Python 3 (ipykernel)",
   "language": "python",
   "name": "python3"
  },
  "language_info": {
   "codemirror_mode": {
    "name": "ipython",
    "version": 3
   },
   "file_extension": ".py",
   "mimetype": "text/x-python",
   "name": "python",
   "nbconvert_exporter": "python",
   "pygments_lexer": "ipython3",
   "version": "3.11.3"
  }
 },
 "nbformat": 4,
 "nbformat_minor": 5
}
