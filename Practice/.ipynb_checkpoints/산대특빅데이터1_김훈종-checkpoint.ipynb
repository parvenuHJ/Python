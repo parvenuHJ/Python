{
 "cells": [
  {
   "cell_type": "markdown",
   "metadata": {},
   "source": [
    "### 파이썬 활용 라이브러리 & 시각화 평가 답안지\n",
    "- 파일명에 본인 성명 기입하시오(Enter your name in the file name.)\n",
    "- 수업 중 배웠던 내용을 상기하여 최선을 다해 문제 풀어주세요.(Recall what you learned in class and do your best to solve the problem.)"
   ]
  },
  {
   "cell_type": "markdown",
   "metadata": {},
   "source": [
    "#### Question1\n",
    "다음은 어떤 차트에 대한 설명이다. 각 빈칸에 알맞은 답을 작성하시오."
   ]
  },
  {
   "cell_type": "code",
   "execution_count": null,
   "metadata": {},
   "outputs": [],
   "source": [
    "# ① : Line plot\n",
    "# ② : plot()"
   ]
  },
  {
   "cell_type": "markdown",
   "metadata": {},
   "source": [
    "#### Question2"
   ]
  },
  {
   "cell_type": "markdown",
   "metadata": {},
   "source": [
    "다음은 어떤 차트에 대한 출력물이다. 문제를 읽고 알맞은 답을 작성하시오. "
   ]
  },
  {
   "cell_type": "markdown",
   "metadata": {},
   "source": [
    "1) 이 차트의 명칭을 작성하시오."
   ]
  },
  {
   "cell_type": "markdown",
   "metadata": {},
   "source": [
    "Bar 차트"
   ]
  },
  {
   "cell_type": "markdown",
   "metadata": {},
   "source": [
    "2) 이 차트를 matplotlib.pyplot 라이브러리를 사용하여 시각화하기 위해서 어떤 함수를 사용하는지 작성하시오. "
   ]
  },
  {
   "cell_type": "markdown",
   "metadata": {},
   "source": [
    "bar()"
   ]
  },
  {
   "cell_type": "markdown",
   "metadata": {},
   "source": [
    "#### Question3\n",
    "아래와 같이 리스트를 만들고 요소의 짝수/홀수를 구분하여 개수를 세는 프로그램을 작성하시오. "
   ]
  },
  {
   "cell_type": "code",
   "execution_count": 8,
   "metadata": {},
   "outputs": [
    {
     "name": "stdout",
     "output_type": "stream",
     "text": [
      "짝수 2개, 홀수7개\n"
     ]
    }
   ],
   "source": [
    "list1 = [1,50,27,19,37,33,5,3,48]\n",
    "num_even = 0 # 짝수의 개수가 들어갈 변수\n",
    "num_odd = 0 # 홀수의 개수가 들어갈 변수\n",
    "for i in list1 :\n",
    "    if i%2 == 0:\n",
    "        num_even +=1\n",
    "    elif i%2 == 1:\n",
    "        num_odd +=1\n",
    "print(f'짝수 {num_even}개, 홀수{num_odd}개')\n",
    "        "
   ]
  },
  {
   "cell_type": "markdown",
   "metadata": {},
   "source": [
    "#### Question4\n",
    "다음 score_list에 들어있는 데이터를 이용해 아래와 같이 성적표를 만드는 프로그램을 작성하시오. (단, 학생의 숫자가 늘어나도 동작할 수 있도록 고려하시오.)"
   ]
  },
  {
   "cell_type": "code",
   "execution_count": 11,
   "metadata": {},
   "outputs": [
    {
     "name": "stdout",
     "output_type": "stream",
     "text": [
      "===============================\n",
      "이름       Python\tJava\tDB\t평균\t학점\n",
      "===============================\n",
      "김미희\t89\t78\t99\t88\tB\n",
      "서대희\t67\t88\t77\t77\tC\n",
      "강예진\t100\t55\t96\t83\tB\n",
      "===============================\n",
      "평균\t\t85\t73\t90\n",
      "\n",
      "학생이름 입력>>차현석\n",
      "Python, Java, DB 순으로 점수 입력>>75\n",
      "Python, Java, DB 순으로 점수 입력>>100\n",
      "Python, Java, DB 순으로 점수 입력>>60\n",
      "\n",
      "===============================\n",
      "이름       Python\tJava\tDB\t평균\t학점\n",
      "===============================\n",
      "김미희\t89\t78\t99\t88\tB\n",
      "서대희\t67\t88\t77\t77\tC\n",
      "강예진\t100\t55\t96\t83\tB\n",
      "차현석\t75\t100\t60\t78\tC\n",
      "===============================\n",
      "평균\t\t82\t80\t83\n"
     ]
    }
   ],
   "source": [
    "score_list = [['김미희', 89,78,99], ['서대희',67,88,77],['강예진', 100,55,96]]\n",
    "\n",
    "per_avg = [] # 사람 평균 점수 들어갈 리스트\n",
    "for i in range(len(score_list)) :\n",
    "    per_avg.append(int((score_list[i][1]+score_list[i][2]+score_list[i][3])/3))\n",
    "\n",
    "\n",
    "grade = [] # 학점 들어갈 리스트\n",
    "for i in range(len(score_list)) :\n",
    "    if 90 <= per_avg[i] <= 100 :\n",
    "        grade.append(\"A\")\n",
    "    elif 80 <= per_avg[i] :\n",
    "        grade.append(\"B\")\n",
    "    elif 70 <= per_avg[i] :\n",
    "        grade.append(\"C\")\n",
    "    elif 60 <= per_avg[i] :\n",
    "        grade.append(\"D\")\n",
    "    else :\n",
    "        grade.append(\"F\")\n",
    "\n",
    "Py_all = [] # Python 점수 들어갈 리스트\n",
    "Ja_all = [] # Java 점수 들어갈 리스트\n",
    "DB_all = [] # DB 점수 들어갈 리스트        \n",
    "    \n",
    "Py_avg = [] # Python 평균 들어갈 리스트\n",
    "Ja_avg = [] # Java 평균 들어갈 리스트\n",
    "DB_avg = [] # DB 평균 들어갈 리스트\n",
    "for i in range(len(score_list)) :\n",
    "    Py_all.append(score_list[i][1])\n",
    "    Ja_all.append(score_list[i][2])\n",
    "    DB_all.append(score_list[i][3])\n",
    "    \n",
    "Py_avg = (int(sum(Py_all)/(len(score_list))))\n",
    "Ja_avg = (int(sum(Ja_all)/(len(score_list))))\n",
    "DB_avg = (int(sum(DB_all)/(len(score_list))))\n",
    "\n",
    "print('===============================')\n",
    "print('이름       Python\\tJava\\tDB\\t평균\\t학점')\n",
    "print('===============================')\n",
    "for i in range(len(score_list)) :\n",
    "    print(f'{score_list[i][0]}\\t{score_list[i][1]}\\t{score_list[i][2]}\\t{score_list[i][3]}\\t{per_avg[i]}\\t{grade[i]}')\n",
    "print('===============================')\n",
    "print(f'평균\\t\\t{Py_avg}\\t{Ja_avg}\\t{DB_avg}')\n",
    "\n",
    "\n",
    "\n",
    "\n",
    "print()\n",
    "# 아래는 학생이 한명 더 추가 될 때 코드 입니다. \n",
    "new_list = []\n",
    "new_list.append(input('학생이름 입력>>'))\n",
    "for i in range(1,4):\n",
    "    new_list.append(int(input('Python, Java, DB 순으로 점수 입력>>')))\n",
    "score_list.append(new_list)\n",
    "print()\n",
    "\n",
    "for i in range(len(score_list)) :\n",
    "    Py_all.append(score_list[i][1])\n",
    "    Ja_all.append(score_list[i][2])\n",
    "    DB_all.append(score_list[i][3])    \n",
    "\n",
    "grade = [] # 학점 들어갈 리스트\n",
    "per_avg = []\n",
    "for i in range(len(score_list)) :\n",
    "    per_avg.append(int((score_list[i][1]+score_list[i][2]+score_list[i][3])/3))\n",
    "\n",
    "for i in range(len(score_list)) :\n",
    "    if 90 <= per_avg[i] <= 100 :\n",
    "        grade.append(\"A\")\n",
    "    elif 80 <= per_avg[i] :\n",
    "        grade.append(\"B\")\n",
    "    elif 70 <= per_avg[i] :\n",
    "        grade.append(\"C\")\n",
    "    elif 60 <= per_avg[i] :\n",
    "        grade.append(\"D\")\n",
    "    else :\n",
    "        grade.append(\"F\")\n",
    "        \n",
    "Py_all = [] # Python 점수 들어갈 리스트\n",
    "Ja_all = [] # Java 점수 들어갈 리스트\n",
    "DB_all = [] # DB 점수 들어갈 리스트        \n",
    "        \n",
    "Py_avg = [] # Python 평균 들어갈 리스트\n",
    "Ja_avg = [] # Java 평균 들어갈 리스트\n",
    "DB_avg = [] # DB 평균 들어갈 리스트\n",
    "for i in range(len(score_list)) :\n",
    "    Py_all.append(score_list[i][1])\n",
    "    Ja_all.append(score_list[i][2])\n",
    "    DB_all.append(score_list[i][3])\n",
    "        \n",
    "Py_avg = (int(sum(Py_all)/(len(score_list))))\n",
    "Ja_avg = (int(sum(Ja_all)/(len(score_list))))\n",
    "DB_avg = (int(sum(DB_all)/(len(score_list))))\n",
    "\n",
    "print('===============================')\n",
    "print('이름       Python\\tJava\\tDB\\t평균\\t학점')\n",
    "print('===============================')\n",
    "for i in range(len(score_list)) :\n",
    "    print(f'{score_list[i][0]}\\t{score_list[i][1]}\\t{score_list[i][2]}\\t{score_list[i][3]}\\t{per_avg[i]}\\t{grade[i]}')\n",
    "print('===============================')\n",
    "print(f'평균\\t\\t{Py_avg}\\t{Ja_avg}\\t{DB_avg}')"
   ]
  },
  {
   "cell_type": "markdown",
   "metadata": {},
   "source": [
    "#### Question5\n",
    " X, Y1, Y2 리스트 자료를 활용하여 [실행결과]와 같은 그래프를 출력하는 프로그램을 작성하시오.  (단, 두 차트는 빨간색과 파란색을 통해 구별 하시오.)"
   ]
  },
  {
   "cell_type": "code",
   "execution_count": 12,
   "metadata": {},
   "outputs": [
    {
     "data": {
      "image/png": "[encoded data removed]",
      "text/plain": [
       "<Figure size 640x480 with 1 Axes>"
      ]
     },
     "metadata": {},
     "output_type": "display_data"
    }
   ],
   "source": [
    "import matplotlib.pyplot as plt\n",
    "X = [2,3,4,5,6,7,8]\n",
    "Y1 = [5,7,3,9,1,8,6]\n",
    "Y2 = [9,5,7,2,3,7,1]\n",
    "\n",
    "plt.xlabel('X');\n",
    "plt.ylabel('Y');\n",
    "\n",
    "plt.plot(X,Y1, label = 'Y1', c='r')\n",
    "plt.plot(X,Y2, label = 'Y2', c='b')\n",
    "\n",
    "plt.grid()\n",
    "plt.legend()\n",
    "\n",
    "plt.show()\n",
    "\n"
   ]
  },
  {
   "cell_type": "markdown",
   "metadata": {},
   "source": [
    "#### Question6\n",
    "Traffic_Accident_2017.csv 데이터를 이용하여 ‘차대 사람’인 사건 중 야간에 발생한 사건에 대해 아래 주어진 조건을 지켜 다음과 같이 시각화 하시오.\n",
    "\n",
    "※ 조건 내용 반드시 확인할 것  \n",
    " 조건 1. 사고유형_대분류가 ‘차대사람’ 이면서 발생시간대가 ‘야간’인 경우의 사고 건수 카운트  \n",
    " 조건 2. y축의 범위는 0~200으로 설정할 것  \n",
    " 조건 3. 차트 내부 글씨는 한글로 표시할 것  "
   ]
  },
  {
   "cell_type": "code",
   "execution_count": 14,
   "metadata": {},
   "outputs": [
    {
     "data": {
      "image/png": "[encoded data removed]",
      "text/plain": [
       "<Figure size 640x480 with 1 Axes>"
      ]
     },
     "metadata": {},
     "output_type": "display_data"
    }
   ],
   "source": [
    "import numpy as np\n",
    "import pandas as pd\n",
    "import matplotlib.pyplot as plt\n",
    "from matplotlib import rc\n",
    "rc('font', family ='malgun gothic' )\n",
    "\n",
    "data= pd.read_csv('./Traffic_Accident_2017.csv', encoding='euc-kr')\n",
    "\n",
    "car = data[(data['사고유형_대분류'] == '차대사람') & (data['주야'] == '야간')]\n",
    "\n",
    "x = y.index\n",
    "y = car['요일'].value_counts()\n",
    "y= y[ ['월','화','수','목','금','토','일']] \n",
    "\n",
    "\n",
    "plt.bar(x,y)\n",
    "plt.ylim(0,200)\n",
    "plt.xlabel('요일')\n",
    "plt.ylabel('사고 건수')\n",
    "plt.title('요일별 야간 차대사람 교통사고 건수')\n",
    "plt.show()"
   ]
  },
  {
   "cell_type": "markdown",
   "metadata": {},
   "source": [
    "### 수고하셨습니다 ."
   ]
  }
 ],
 "metadata": {
  "kernelspec": {
   "display_name": "Python 3 (ipykernel)",
   "language": "python",
   "name": "python3"
  },
  "language_info": {
   "codemirror_mode": {
    "name": "ipython",
    "version": 3
   },
   "file_extension": ".py",
   "mimetype": "text/x-python",
   "name": "python",
   "nbconvert_exporter": "python",
   "pygments_lexer": "ipython3",
   "version": "3.11.3"
  },
  "toc": {
   "base_numbering": 1,
   "nav_menu": {},
   "number_sections": true,
   "sideBar": true,
   "skip_h1_title": false,
   "title_cell": "Table of Contents",
   "title_sidebar": "Contents",
   "toc_cell": false,
   "toc_position": {},
   "toc_section_display": true,
   "toc_window_display": false
  },
  "varInspector": {
   "cols": {
    "lenName": 16,
    "lenType": 16,
    "lenVar": 40
   },
   "kernels_config": {
    "python": {
     "delete_cmd_postfix": "",
     "delete_cmd_prefix": "del ",
     "library": "var_list.py",
     "varRefreshCmd": "print(var_dic_list())"
    },
    "r": {
     "delete_cmd_postfix": ") ",
     "delete_cmd_prefix": "rm(",
     "library": "var_list.r",
     "varRefreshCmd": "cat(var_dic_list()) "
    }
   },
   "types_to_exclude": [
    "module",
    "function",
    "builtin_function_or_method",
    "instance",
    "_Feature"
   ],
   "window_display": false
  }
 },
 "nbformat": 4,
 "nbformat_minor": 4
}
