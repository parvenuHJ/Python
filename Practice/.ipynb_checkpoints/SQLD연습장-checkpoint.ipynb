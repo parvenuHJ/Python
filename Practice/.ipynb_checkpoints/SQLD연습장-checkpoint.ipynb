{
 "cells": [
  {
   "cell_type": "markdown",
   "id": "6d094055",
   "metadata": {},
   "source": [
    "# SQLD 정리"
   ]
  },
  {
   "cell_type": "markdown",
   "id": "047e710c",
   "metadata": {},
   "source": [
    "# 데이터 모델링의 단계\n",
    "[개논물]\n",
    "- 개념적 : 포괄적\n",
    "- 논리적 : 가장 높은 재사용성 / Key 속성 관계\n",
    "- 물리적 : 물리"
   ]
  },
  {
   "cell_type": "markdown",
   "id": "073d994d",
   "metadata": {},
   "source": [
    "# 3단계 스키마 구조\n",
    "- 외부 스키마 : View / (사용자관점 - `여러(각)` 사용자)\n",
    "- 개념 스키마 : (통합된 관점 - `모든` 사용자)\n",
    "- 내부 스키마 : `물리` 적 관점"
   ]
  },
  {
   "cell_type": "markdown",
   "id": "e0aba2ec",
   "metadata": {},
   "source": [
    "# 스키마 구조가 보장하는 독립성\n",
    "- 논리적 독립성 : `개념` 스키마 -변경-> `외부` 스키마 는 영향X\n",
    "- 물리적 독립성 : `내부` 스키마 -변경-> `외부/개념`    는 영향X"
   ]
  },
  {
   "cell_type": "markdown",
   "id": "c8d5b98c",
   "metadata": {},
   "source": [
    "# ERD (Entity Relationship Diagram)"
   ]
  },
  {
   "cell_type": "markdown",
   "id": "c13fbe5f",
   "metadata": {},
   "source": [
    "### Entity(엔터티)\n",
    "- `2개` 이상의 인스턴스를 가지고 있어야 함  \n",
    "    - 이름 정할 때 : 띄어쓰기는 하지 않음 / 약어를 쓰지 않음\n",
    "-  가장 중효한 엔터티를 `왼쪽 상단`에 위치  \n",
    "- 다른 엔터티와 최소 한개 이상의 관계가 있어야 한다.  \n",
    "- 엔터티는 영속적(지속적)으로 `두 개 이상의 인스턴스`를 가져야 한다. -> 엔터티는 한 개의 인스턴스를 가지는 것만으로도 충분한 의미를 부여할 수 있다.(X)\n",
    "- `하나의 엔터티` -> `두 개 이상의 속성` 을 갖는다.  \n",
    "- `하나의 속성` -> `하나의 속성값` 을 갖는다."
   ]
  },
  {
   "cell_type": "markdown",
   "id": "88ac7979",
   "metadata": {},
   "source": [
    "### 엔터티의 분류  \n",
    "`유/무형`  [사 유 개]\n",
    "- 유형 엔터티 : `물리적` / 안정,지속 (상품. 회원)  \n",
    "- 개념 엔터티 : `물리적X` / 개념 (부서, 학과)  \n",
    "- 사건 엔터티 : 행위->발생 (주문)  \n",
    "  \n",
    "`발생시점`  [기 중 행]   사유개 귀중해..\n",
    "- 기본 엔터티 : `독립적` / 자식 엔터티를 가질 수 있음(다른 엔터티의 부모 역할)  \n",
    "- 중심 엔터티 : `기본 엔터티`에서 `파생` / `행위 엔터티`를 `생성`  , 핵심적인 역할을 하며 데이터의 양이 많음\n",
    "- 행위 엔터티 : `2개`이상의 엔터티로부터 파생, 데이터의 변경이 잦음"
   ]
  },
  {
   "cell_type": "markdown",
   "id": "d2d5650e",
   "metadata": {},
   "source": [
    "# 속성  \n",
    "- 엔터티의 특징을 나타내는 `최소`(쪼개지지 않음) 의 데이터 단위\n",
    " - `특성`에 따른 분류 : `기본`/설계/파생 속성 \n",
    " - `구성방식`에 따른 분류 : PK/FK/`일반` 속성  \n",
    "<br><br>\n",
    " - 파생 속성 : 데이터 조회 시 빠른 성능을 보장하기 위해, 본래의 속성값을 계산하여 따로 저장\n",
    "<br><br>\n",
    " - 도메인 : 속성값의 범위\n",
    " <br><br>\n",
    " - 용어사전 : 속성명을 정의할 떄 이름 부여하여 혼란 예방"
   ]
  },
  {
   "cell_type": "markdown",
   "id": "4f7dcecc",
   "metadata": {},
   "source": [
    "# 관계  \n",
    "- 표기하는 항목 : 관계명(존재, 행위 관계 구분하지않고 표현) / 관계차수 / 관계선택사양(필수인지선택인지 여부)  \n",
    "<br><br>\n",
    "- 식별자 관계 : 부모 엔터티의 식별자가 자식 엔터티의 주 식별자가 되는 관계  \n",
    "- 비식별자 관계 : 부모 엔터티의 식별자가 자식 엔터티의 일반 속성이 되는 관계 (부모 엔터티 없는 자식 엔터티 생성 가능)\n",
    "- 부모 엔터티 : 자식엔터티 = 1 : M ( M : 1 (x) )"
   ]
  },
  {
   "cell_type": "markdown",
   "id": "1dc8526b",
   "metadata": {},
   "source": [
    "# 정규화 : 데이터의 무결성을 보장하기 위해 수행\n",
    "## 제 1 정규화 대상 : 모든 속성은 반드시 하나의 값만 가져야 한다.\n",
    "## 제 2 정규화 대상 : 주 식별자가 복합 식별자인 경우 문제점발생.\n",
    "## 제 3 정규화 대상 : 주 식별자가 아닌 속성 간에는 서로 종속될 수 없다.\n",
    "\n",
    "<br><br>\n",
    "# 반 정규화  \n",
    "- 정규화가 끝난 후 이루어진다.  \n",
    "- 수행하는 이유  \n",
    "    - 여러 번의 조인으로 인해 성능이 저하되는 것을 방지  \n",
    "- 기법   \n",
    "    - 테이블 : 중복 / 통계 / 이력 / 부분 테이블 추가  \n",
    "    - 컬럼 : 중복 / 파생 / 이력테이블 컬럼 추카  \n",
    "    - 관계 : 중복 관계 추가  \n",
    "    - 테이블 병합"
   ]
  },
  {
   "cell_type": "markdown",
   "id": "cf396cb3",
   "metadata": {},
   "source": []
  },
  {
   "cell_type": "markdown",
   "id": "5e62e30a",
   "metadata": {},
   "source": []
  },
  {
   "cell_type": "markdown",
   "id": "7ebcea72",
   "metadata": {},
   "source": []
  },
  {
   "cell_type": "markdown",
   "id": "78b414c6",
   "metadata": {},
   "source": []
  },
  {
   "cell_type": "markdown",
   "id": "88ac0ad3",
   "metadata": {},
   "source": []
  },
  {
   "cell_type": "markdown",
   "id": "db6af2fd",
   "metadata": {},
   "source": []
  },
  {
   "cell_type": "markdown",
   "id": "6d130fe8",
   "metadata": {},
   "source": []
  },
  {
   "cell_type": "markdown",
   "id": "4986cfc4",
   "metadata": {},
   "source": []
  },
  {
   "cell_type": "markdown",
   "id": "009f5650",
   "metadata": {},
   "source": []
  },
  {
   "cell_type": "markdown",
   "id": "2fca3e64",
   "metadata": {},
   "source": []
  },
  {
   "cell_type": "markdown",
   "id": "a4697a5a",
   "metadata": {},
   "source": []
  },
  {
   "cell_type": "markdown",
   "id": "d18458a5",
   "metadata": {},
   "source": []
  },
  {
   "cell_type": "markdown",
   "id": "a24107da",
   "metadata": {},
   "source": []
  },
  {
   "cell_type": "markdown",
   "id": "5b9ea60d",
   "metadata": {},
   "source": []
  },
  {
   "cell_type": "markdown",
   "id": "f1016e96",
   "metadata": {},
   "source": []
  },
  {
   "cell_type": "markdown",
   "id": "b11556c3",
   "metadata": {},
   "source": []
  },
  {
   "cell_type": "markdown",
   "id": "98cf0499",
   "metadata": {},
   "source": []
  },
  {
   "cell_type": "markdown",
   "id": "28143559",
   "metadata": {},
   "source": []
  },
  {
   "cell_type": "markdown",
   "id": "3299cfd2",
   "metadata": {},
   "source": []
  },
  {
   "cell_type": "markdown",
   "id": "08c55c5d",
   "metadata": {},
   "source": []
  },
  {
   "cell_type": "markdown",
   "id": "96afebd0",
   "metadata": {},
   "source": []
  },
  {
   "cell_type": "markdown",
   "id": "f8835004",
   "metadata": {},
   "source": []
  },
  {
   "cell_type": "markdown",
   "id": "9426fd43",
   "metadata": {},
   "source": []
  },
  {
   "cell_type": "markdown",
   "id": "2e563816",
   "metadata": {},
   "source": []
  },
  {
   "cell_type": "markdown",
   "id": "3df270d0",
   "metadata": {},
   "source": []
  },
  {
   "cell_type": "markdown",
   "id": "bc27d54e",
   "metadata": {},
   "source": []
  },
  {
   "cell_type": "markdown",
   "id": "27fb1f47",
   "metadata": {},
   "source": []
  },
  {
   "cell_type": "markdown",
   "id": "20b7fb1d",
   "metadata": {},
   "source": []
  },
  {
   "cell_type": "markdown",
   "id": "421e8583",
   "metadata": {},
   "source": []
  },
  {
   "cell_type": "markdown",
   "id": "66f66977",
   "metadata": {},
   "source": []
  },
  {
   "cell_type": "markdown",
   "id": "ce1fcc2a",
   "metadata": {},
   "source": []
  },
  {
   "cell_type": "markdown",
   "id": "4e1a572a",
   "metadata": {},
   "source": []
  },
  {
   "cell_type": "markdown",
   "id": "ee0b13af",
   "metadata": {},
   "source": []
  },
  {
   "cell_type": "markdown",
   "id": "c36fae8f",
   "metadata": {},
   "source": []
  },
  {
   "cell_type": "markdown",
   "id": "571d747b",
   "metadata": {},
   "source": []
  },
  {
   "cell_type": "markdown",
   "id": "937ac9bb",
   "metadata": {},
   "source": []
  },
  {
   "cell_type": "markdown",
   "id": "8565d713",
   "metadata": {},
   "source": []
  },
  {
   "cell_type": "markdown",
   "id": "9d493e84",
   "metadata": {},
   "source": []
  },
  {
   "cell_type": "markdown",
   "id": "4ce04e13",
   "metadata": {},
   "source": []
  },
  {
   "cell_type": "markdown",
   "id": "1ea80937",
   "metadata": {},
   "source": []
  },
  {
   "cell_type": "markdown",
   "id": "6167ee0e",
   "metadata": {},
   "source": []
  },
  {
   "cell_type": "markdown",
   "id": "e3f90345",
   "metadata": {},
   "source": []
  },
  {
   "cell_type": "markdown",
   "id": "ff1fc9d6",
   "metadata": {},
   "source": []
  },
  {
   "cell_type": "markdown",
   "id": "169a842b",
   "metadata": {},
   "source": []
  },
  {
   "cell_type": "markdown",
   "id": "cbadbad3",
   "metadata": {},
   "source": []
  },
  {
   "cell_type": "markdown",
   "id": "2ffc477f",
   "metadata": {},
   "source": []
  },
  {
   "cell_type": "markdown",
   "id": "57162e32",
   "metadata": {},
   "source": []
  },
  {
   "cell_type": "markdown",
   "id": "a1307f04",
   "metadata": {},
   "source": []
  },
  {
   "cell_type": "markdown",
   "id": "e1068cf6",
   "metadata": {},
   "source": []
  },
  {
   "cell_type": "markdown",
   "id": "a517ae30",
   "metadata": {},
   "source": []
  },
  {
   "cell_type": "markdown",
   "id": "2853248f",
   "metadata": {},
   "source": []
  },
  {
   "cell_type": "markdown",
   "id": "afee8948",
   "metadata": {},
   "source": []
  },
  {
   "cell_type": "markdown",
   "id": "47648abb",
   "metadata": {},
   "source": []
  },
  {
   "cell_type": "markdown",
   "id": "02254d44",
   "metadata": {},
   "source": []
  },
  {
   "cell_type": "markdown",
   "id": "057827bd",
   "metadata": {},
   "source": []
  },
  {
   "cell_type": "markdown",
   "id": "366f57cc",
   "metadata": {},
   "source": []
  },
  {
   "cell_type": "markdown",
   "id": "094374d4",
   "metadata": {},
   "source": []
  },
  {
   "cell_type": "markdown",
   "id": "6049b9e7",
   "metadata": {},
   "source": []
  },
  {
   "cell_type": "markdown",
   "id": "8aac57ca",
   "metadata": {},
   "source": []
  },
  {
   "cell_type": "markdown",
   "id": "51d2a7dd",
   "metadata": {},
   "source": []
  },
  {
   "cell_type": "markdown",
   "id": "1ba75877",
   "metadata": {},
   "source": []
  },
  {
   "cell_type": "markdown",
   "id": "6990de32",
   "metadata": {},
   "source": []
  },
  {
   "cell_type": "markdown",
   "id": "e10ebf9b",
   "metadata": {},
   "source": []
  },
  {
   "cell_type": "markdown",
   "id": "a84e4e99",
   "metadata": {},
   "source": []
  },
  {
   "cell_type": "markdown",
   "id": "38c56b6c",
   "metadata": {},
   "source": []
  },
  {
   "cell_type": "markdown",
   "id": "fd418491",
   "metadata": {},
   "source": []
  },
  {
   "cell_type": "markdown",
   "id": "eba32817",
   "metadata": {},
   "source": []
  },
  {
   "cell_type": "markdown",
   "id": "3eb4ccbe",
   "metadata": {},
   "source": []
  },
  {
   "cell_type": "markdown",
   "id": "09f2bdba",
   "metadata": {},
   "source": []
  },
  {
   "cell_type": "markdown",
   "id": "d287c2ab",
   "metadata": {},
   "source": []
  },
  {
   "cell_type": "markdown",
   "id": "2f8431d8",
   "metadata": {},
   "source": []
  },
  {
   "cell_type": "markdown",
   "id": "bbb70c08",
   "metadata": {},
   "source": []
  },
  {
   "cell_type": "markdown",
   "id": "595af977",
   "metadata": {},
   "source": []
  },
  {
   "cell_type": "markdown",
   "id": "f00cb740",
   "metadata": {},
   "source": []
  }
 ],
 "metadata": {
  "kernelspec": {
   "display_name": "Python 3 (ipykernel)",
   "language": "python",
   "name": "python3"
  },
  "language_info": {
   "codemirror_mode": {
    "name": "ipython",
    "version": 3
   },
   "file_extension": ".py",
   "mimetype": "text/x-python",
   "name": "python",
   "nbconvert_exporter": "python",
   "pygments_lexer": "ipython3",
   "version": "3.11.3"
  }
 },
 "nbformat": 4,
 "nbformat_minor": 5
}
