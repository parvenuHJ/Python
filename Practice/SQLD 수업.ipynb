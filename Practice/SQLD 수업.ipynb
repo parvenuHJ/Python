{
 "cells": [
  {
   "cell_type": "markdown",
   "id": "28e2e3a5",
   "metadata": {},
   "source": [
    "https://dataonair.or.kr/db-tech-reference/d-guide/sql/?pageid=5&mod=list  \n",
    "1~31 번까지"
   ]
  },
  {
   "cell_type": "markdown",
   "id": "5df0bf16",
   "metadata": {},
   "source": [
    "DB - 데이터 저장/ 조회 기능  \n",
    "DBMS - 데이터 관리/복원/백업/보안 기능"
   ]
  },
  {
   "cell_type": "markdown",
   "id": "1f13df33",
   "metadata": {},
   "source": [
    "## 모델링의 3가지 관점  \n",
    "- 데이터 관점 ( 고객id , 패스워드, 이름 저장...)\n",
    "- 프로세스 관점  ( 회원가입에 필요한 데이터를 넣고 등록 버튼을 누른다..)\n",
    "- 상관 관점(회원가입을 함으로써 데이터 추가됨)"
   ]
  },
  {
   "cell_type": "markdown",
   "id": "af6146b5",
   "metadata": {},
   "source": []
  },
  {
   "cell_type": "markdown",
   "id": "9c1e059f",
   "metadata": {},
   "source": []
  },
  {
   "cell_type": "markdown",
   "id": "0e7561c6",
   "metadata": {},
   "source": []
  },
  {
   "cell_type": "markdown",
   "id": "fd2ee5f5",
   "metadata": {},
   "source": []
  },
  {
   "cell_type": "markdown",
   "id": "2be75663",
   "metadata": {},
   "source": []
  },
  {
   "cell_type": "markdown",
   "id": "cc755463",
   "metadata": {},
   "source": []
  },
  {
   "cell_type": "markdown",
   "id": "3057bd16",
   "metadata": {},
   "source": []
  },
  {
   "cell_type": "markdown",
   "id": "daf287e4",
   "metadata": {},
   "source": []
  },
  {
   "cell_type": "markdown",
   "id": "9262dd0b",
   "metadata": {},
   "source": []
  },
  {
   "cell_type": "markdown",
   "id": "0f9f7f1f",
   "metadata": {},
   "source": []
  },
  {
   "cell_type": "markdown",
   "id": "ebdb393a",
   "metadata": {},
   "source": []
  },
  {
   "cell_type": "markdown",
   "id": "770ea019",
   "metadata": {},
   "source": []
  },
  {
   "cell_type": "markdown",
   "id": "a42093ce",
   "metadata": {},
   "source": []
  },
  {
   "cell_type": "markdown",
   "id": "9ffa593f",
   "metadata": {},
   "source": []
  },
  {
   "cell_type": "markdown",
   "id": "cdbcd441",
   "metadata": {},
   "source": []
  },
  {
   "cell_type": "markdown",
   "id": "75385a3a",
   "metadata": {},
   "source": []
  },
  {
   "cell_type": "markdown",
   "id": "4f9a9a87",
   "metadata": {},
   "source": []
  },
  {
   "cell_type": "markdown",
   "id": "043b8eb9",
   "metadata": {},
   "source": []
  },
  {
   "cell_type": "markdown",
   "id": "039010bb",
   "metadata": {},
   "source": []
  },
  {
   "cell_type": "markdown",
   "id": "f1af9c69",
   "metadata": {},
   "source": []
  },
  {
   "cell_type": "markdown",
   "id": "27364d78",
   "metadata": {},
   "source": []
  },
  {
   "cell_type": "markdown",
   "id": "4569d8a8",
   "metadata": {},
   "source": []
  },
  {
   "cell_type": "markdown",
   "id": "b0c06abf",
   "metadata": {},
   "source": []
  },
  {
   "cell_type": "markdown",
   "id": "4756e212",
   "metadata": {},
   "source": []
  },
  {
   "cell_type": "markdown",
   "id": "4209f886",
   "metadata": {},
   "source": []
  },
  {
   "cell_type": "markdown",
   "id": "3cd210ed",
   "metadata": {},
   "source": []
  },
  {
   "cell_type": "markdown",
   "id": "633b5475",
   "metadata": {},
   "source": []
  },
  {
   "cell_type": "markdown",
   "id": "24803ad2",
   "metadata": {},
   "source": []
  },
  {
   "cell_type": "markdown",
   "id": "95819f16",
   "metadata": {},
   "source": []
  },
  {
   "cell_type": "markdown",
   "id": "62ad2939",
   "metadata": {},
   "source": []
  },
  {
   "cell_type": "markdown",
   "id": "6f5bdc8b",
   "metadata": {},
   "source": []
  },
  {
   "cell_type": "markdown",
   "id": "abd092cf",
   "metadata": {},
   "source": []
  },
  {
   "cell_type": "markdown",
   "id": "92553896",
   "metadata": {},
   "source": []
  },
  {
   "cell_type": "markdown",
   "id": "8089a891",
   "metadata": {},
   "source": []
  },
  {
   "cell_type": "markdown",
   "id": "db710f4d",
   "metadata": {},
   "source": []
  },
  {
   "cell_type": "markdown",
   "id": "9ba5279e",
   "metadata": {},
   "source": []
  },
  {
   "cell_type": "markdown",
   "id": "c5bcf66e",
   "metadata": {},
   "source": []
  },
  {
   "cell_type": "markdown",
   "id": "b01a0865",
   "metadata": {},
   "source": []
  },
  {
   "cell_type": "markdown",
   "id": "886914ce",
   "metadata": {},
   "source": []
  },
  {
   "cell_type": "markdown",
   "id": "936c4a96",
   "metadata": {},
   "source": []
  },
  {
   "cell_type": "markdown",
   "id": "6cacdbb0",
   "metadata": {},
   "source": []
  },
  {
   "cell_type": "markdown",
   "id": "c3ccac1c",
   "metadata": {},
   "source": []
  },
  {
   "cell_type": "markdown",
   "id": "05b90699",
   "metadata": {},
   "source": []
  },
  {
   "cell_type": "markdown",
   "id": "b16330f3",
   "metadata": {},
   "source": []
  },
  {
   "cell_type": "markdown",
   "id": "039a3dc2",
   "metadata": {},
   "source": []
  },
  {
   "cell_type": "markdown",
   "id": "792bfd84",
   "metadata": {},
   "source": []
  },
  {
   "cell_type": "markdown",
   "id": "b52e6197",
   "metadata": {},
   "source": []
  },
  {
   "cell_type": "markdown",
   "id": "95273e67",
   "metadata": {},
   "source": []
  },
  {
   "cell_type": "markdown",
   "id": "a182fd20",
   "metadata": {},
   "source": []
  },
  {
   "cell_type": "markdown",
   "id": "c095f09f",
   "metadata": {},
   "source": []
  },
  {
   "cell_type": "markdown",
   "id": "1b47a2d5",
   "metadata": {},
   "source": []
  },
  {
   "cell_type": "markdown",
   "id": "1d4fe5fc",
   "metadata": {},
   "source": []
  },
  {
   "cell_type": "markdown",
   "id": "a3d71f60",
   "metadata": {},
   "source": []
  },
  {
   "cell_type": "markdown",
   "id": "a0aea027",
   "metadata": {},
   "source": []
  },
  {
   "cell_type": "markdown",
   "id": "5dc00507",
   "metadata": {},
   "source": []
  },
  {
   "cell_type": "markdown",
   "id": "086ca51e",
   "metadata": {},
   "source": []
  },
  {
   "cell_type": "markdown",
   "id": "75b72152",
   "metadata": {},
   "source": []
  },
  {
   "cell_type": "markdown",
   "id": "32a6991b",
   "metadata": {},
   "source": []
  },
  {
   "cell_type": "markdown",
   "id": "7fcd3ae6",
   "metadata": {},
   "source": []
  },
  {
   "cell_type": "markdown",
   "id": "22e782d2",
   "metadata": {},
   "source": []
  },
  {
   "cell_type": "markdown",
   "id": "a8528d3a",
   "metadata": {},
   "source": []
  },
  {
   "cell_type": "markdown",
   "id": "e0735e22",
   "metadata": {},
   "source": []
  },
  {
   "cell_type": "markdown",
   "id": "95b08f2f",
   "metadata": {},
   "source": []
  },
  {
   "cell_type": "markdown",
   "id": "e8f3198f",
   "metadata": {},
   "source": []
  },
  {
   "cell_type": "markdown",
   "id": "cafb6174",
   "metadata": {},
   "source": []
  },
  {
   "cell_type": "markdown",
   "id": "91acd824",
   "metadata": {},
   "source": []
  },
  {
   "cell_type": "markdown",
   "id": "5a1e81bf",
   "metadata": {},
   "source": []
  },
  {
   "cell_type": "markdown",
   "id": "e353e6da",
   "metadata": {},
   "source": []
  },
  {
   "cell_type": "markdown",
   "id": "05854bcd",
   "metadata": {},
   "source": []
  },
  {
   "cell_type": "markdown",
   "id": "bc5a9628",
   "metadata": {},
   "source": []
  },
  {
   "cell_type": "markdown",
   "id": "f4bd33be",
   "metadata": {},
   "source": []
  },
  {
   "cell_type": "markdown",
   "id": "e04c7a71",
   "metadata": {},
   "source": []
  },
  {
   "cell_type": "markdown",
   "id": "ce1190cf",
   "metadata": {},
   "source": []
  },
  {
   "cell_type": "markdown",
   "id": "ce7e1ecb",
   "metadata": {},
   "source": []
  },
  {
   "cell_type": "markdown",
   "id": "d8f21882",
   "metadata": {},
   "source": []
  },
  {
   "cell_type": "markdown",
   "id": "3617ede1",
   "metadata": {},
   "source": []
  },
  {
   "cell_type": "markdown",
   "id": "4b98ac2e",
   "metadata": {},
   "source": []
  },
  {
   "cell_type": "markdown",
   "id": "f2421ba3",
   "metadata": {},
   "source": []
  },
  {
   "cell_type": "markdown",
   "id": "ace973cc",
   "metadata": {},
   "source": []
  },
  {
   "cell_type": "markdown",
   "id": "82a10390",
   "metadata": {},
   "source": []
  },
  {
   "cell_type": "markdown",
   "id": "ef6d802e",
   "metadata": {},
   "source": []
  },
  {
   "cell_type": "markdown",
   "id": "6625e3e4",
   "metadata": {},
   "source": []
  },
  {
   "cell_type": "markdown",
   "id": "8dfaf1ce",
   "metadata": {},
   "source": []
  },
  {
   "cell_type": "markdown",
   "id": "b3a685ed",
   "metadata": {},
   "source": []
  },
  {
   "cell_type": "markdown",
   "id": "1db8aac4",
   "metadata": {},
   "source": []
  },
  {
   "cell_type": "markdown",
   "id": "ae830614",
   "metadata": {},
   "source": []
  },
  {
   "cell_type": "markdown",
   "id": "7a5b3e82",
   "metadata": {},
   "source": []
  },
  {
   "cell_type": "markdown",
   "id": "cda3cd05",
   "metadata": {},
   "source": []
  },
  {
   "cell_type": "markdown",
   "id": "c3b6b2ca",
   "metadata": {},
   "source": []
  },
  {
   "cell_type": "markdown",
   "id": "fd076128",
   "metadata": {},
   "source": []
  },
  {
   "cell_type": "markdown",
   "id": "b3168354",
   "metadata": {},
   "source": []
  },
  {
   "cell_type": "markdown",
   "id": "2b247b4f",
   "metadata": {},
   "source": []
  },
  {
   "cell_type": "markdown",
   "id": "c5c26c8e",
   "metadata": {},
   "source": []
  },
  {
   "cell_type": "markdown",
   "id": "4161b5b7",
   "metadata": {},
   "source": []
  },
  {
   "cell_type": "markdown",
   "id": "080dc8dd",
   "metadata": {},
   "source": []
  },
  {
   "cell_type": "markdown",
   "id": "78efd1a4",
   "metadata": {},
   "source": []
  },
  {
   "cell_type": "markdown",
   "id": "5f6173a8",
   "metadata": {},
   "source": []
  },
  {
   "cell_type": "markdown",
   "id": "bb39876c",
   "metadata": {},
   "source": []
  },
  {
   "cell_type": "markdown",
   "id": "5d4c7ebd",
   "metadata": {},
   "source": []
  },
  {
   "cell_type": "markdown",
   "id": "178fd3d7",
   "metadata": {},
   "source": []
  },
  {
   "cell_type": "markdown",
   "id": "dc9613cc",
   "metadata": {},
   "source": []
  },
  {
   "cell_type": "markdown",
   "id": "c64a2622",
   "metadata": {},
   "source": []
  },
  {
   "cell_type": "markdown",
   "id": "be72d2e8",
   "metadata": {},
   "source": []
  },
  {
   "cell_type": "markdown",
   "id": "4a3bc7bb",
   "metadata": {},
   "source": []
  },
  {
   "cell_type": "markdown",
   "id": "5a23f70d",
   "metadata": {},
   "source": []
  },
  {
   "cell_type": "markdown",
   "id": "59080cc7",
   "metadata": {},
   "source": []
  },
  {
   "cell_type": "markdown",
   "id": "b5c3d1f1",
   "metadata": {},
   "source": []
  },
  {
   "cell_type": "markdown",
   "id": "ae2c9042",
   "metadata": {},
   "source": []
  },
  {
   "cell_type": "markdown",
   "id": "1918cc8e",
   "metadata": {},
   "source": []
  },
  {
   "cell_type": "markdown",
   "id": "1c104851",
   "metadata": {},
   "source": []
  },
  {
   "cell_type": "markdown",
   "id": "6369adb4",
   "metadata": {},
   "source": []
  },
  {
   "cell_type": "markdown",
   "id": "7298b4b2",
   "metadata": {},
   "source": []
  },
  {
   "cell_type": "markdown",
   "id": "f11d3fc3",
   "metadata": {},
   "source": []
  },
  {
   "cell_type": "markdown",
   "id": "bde7ea68",
   "metadata": {},
   "source": []
  },
  {
   "cell_type": "markdown",
   "id": "29978eb4",
   "metadata": {},
   "source": []
  },
  {
   "cell_type": "markdown",
   "id": "08e8338d",
   "metadata": {},
   "source": []
  },
  {
   "cell_type": "markdown",
   "id": "cee17386",
   "metadata": {},
   "source": []
  },
  {
   "cell_type": "markdown",
   "id": "def5a143",
   "metadata": {},
   "source": []
  },
  {
   "cell_type": "markdown",
   "id": "4101bb9b",
   "metadata": {},
   "source": []
  },
  {
   "cell_type": "markdown",
   "id": "2c55f24d",
   "metadata": {},
   "source": []
  },
  {
   "cell_type": "markdown",
   "id": "ac7f87e6",
   "metadata": {},
   "source": []
  },
  {
   "cell_type": "markdown",
   "id": "e2b2a734",
   "metadata": {},
   "source": []
  },
  {
   "cell_type": "markdown",
   "id": "994c9a21",
   "metadata": {},
   "source": []
  },
  {
   "cell_type": "markdown",
   "id": "b3189d7d",
   "metadata": {},
   "source": []
  },
  {
   "cell_type": "markdown",
   "id": "7ae3e765",
   "metadata": {},
   "source": []
  },
  {
   "cell_type": "markdown",
   "id": "0f30cf9c",
   "metadata": {},
   "source": []
  },
  {
   "cell_type": "markdown",
   "id": "ec164fc8",
   "metadata": {},
   "source": []
  },
  {
   "cell_type": "markdown",
   "id": "f1e1a992",
   "metadata": {},
   "source": []
  },
  {
   "cell_type": "markdown",
   "id": "14b9d25d",
   "metadata": {},
   "source": []
  },
  {
   "cell_type": "markdown",
   "id": "734b66c3",
   "metadata": {},
   "source": []
  },
  {
   "cell_type": "markdown",
   "id": "84f5ca8c",
   "metadata": {},
   "source": []
  },
  {
   "cell_type": "markdown",
   "id": "71fd1e29",
   "metadata": {},
   "source": []
  },
  {
   "cell_type": "markdown",
   "id": "80d8af92",
   "metadata": {},
   "source": []
  },
  {
   "cell_type": "markdown",
   "id": "5ed4a94d",
   "metadata": {},
   "source": []
  },
  {
   "cell_type": "markdown",
   "id": "70435ccb",
   "metadata": {},
   "source": []
  },
  {
   "cell_type": "markdown",
   "id": "14a297e6",
   "metadata": {},
   "source": []
  },
  {
   "cell_type": "markdown",
   "id": "0da474df",
   "metadata": {},
   "source": []
  },
  {
   "cell_type": "markdown",
   "id": "7185049b",
   "metadata": {},
   "source": []
  },
  {
   "cell_type": "markdown",
   "id": "165f471d",
   "metadata": {},
   "source": []
  },
  {
   "cell_type": "markdown",
   "id": "99c70173",
   "metadata": {},
   "source": []
  },
  {
   "cell_type": "markdown",
   "id": "6171aad1",
   "metadata": {},
   "source": []
  },
  {
   "cell_type": "markdown",
   "id": "57a89452",
   "metadata": {},
   "source": []
  },
  {
   "cell_type": "markdown",
   "id": "56d79fd6",
   "metadata": {},
   "source": []
  },
  {
   "cell_type": "markdown",
   "id": "d12c55d3",
   "metadata": {},
   "source": []
  },
  {
   "cell_type": "markdown",
   "id": "217a7b99",
   "metadata": {},
   "source": []
  },
  {
   "cell_type": "markdown",
   "id": "e1f0848c",
   "metadata": {},
   "source": []
  },
  {
   "cell_type": "markdown",
   "id": "ba0407c7",
   "metadata": {},
   "source": []
  },
  {
   "cell_type": "markdown",
   "id": "01dabc7e",
   "metadata": {},
   "source": []
  },
  {
   "cell_type": "markdown",
   "id": "e95ed813",
   "metadata": {},
   "source": []
  },
  {
   "cell_type": "markdown",
   "id": "9228bf9b",
   "metadata": {},
   "source": []
  },
  {
   "cell_type": "markdown",
   "id": "07011b86",
   "metadata": {},
   "source": []
  },
  {
   "cell_type": "markdown",
   "id": "8efacfae",
   "metadata": {},
   "source": []
  },
  {
   "cell_type": "markdown",
   "id": "15d4616d",
   "metadata": {},
   "source": []
  },
  {
   "cell_type": "markdown",
   "id": "4005df5b",
   "metadata": {},
   "source": []
  },
  {
   "cell_type": "markdown",
   "id": "398bf7f7",
   "metadata": {},
   "source": []
  },
  {
   "cell_type": "markdown",
   "id": "9cf27bb4",
   "metadata": {},
   "source": []
  },
  {
   "cell_type": "markdown",
   "id": "eec6ae63",
   "metadata": {},
   "source": []
  },
  {
   "cell_type": "markdown",
   "id": "e4c50084",
   "metadata": {},
   "source": []
  },
  {
   "cell_type": "markdown",
   "id": "0f7640db",
   "metadata": {},
   "source": []
  },
  {
   "cell_type": "markdown",
   "id": "ea275f39",
   "metadata": {},
   "source": []
  },
  {
   "cell_type": "markdown",
   "id": "2632b8bc",
   "metadata": {},
   "source": []
  },
  {
   "cell_type": "markdown",
   "id": "d67d87e4",
   "metadata": {},
   "source": []
  },
  {
   "cell_type": "markdown",
   "id": "1eab56a7",
   "metadata": {},
   "source": []
  },
  {
   "cell_type": "markdown",
   "id": "e65021a0",
   "metadata": {},
   "source": []
  },
  {
   "cell_type": "markdown",
   "id": "bede19fd",
   "metadata": {},
   "source": []
  },
  {
   "cell_type": "markdown",
   "id": "cfde3991",
   "metadata": {},
   "source": []
  },
  {
   "cell_type": "markdown",
   "id": "01771e60",
   "metadata": {},
   "source": []
  },
  {
   "cell_type": "markdown",
   "id": "d6de561e",
   "metadata": {},
   "source": []
  },
  {
   "cell_type": "markdown",
   "id": "a1e0b2c3",
   "metadata": {},
   "source": []
  },
  {
   "cell_type": "markdown",
   "id": "dea0d3e2",
   "metadata": {},
   "source": []
  },
  {
   "cell_type": "markdown",
   "id": "bd39c653",
   "metadata": {},
   "source": []
  },
  {
   "cell_type": "markdown",
   "id": "4ebaaba0",
   "metadata": {},
   "source": []
  },
  {
   "cell_type": "markdown",
   "id": "3858b8c2",
   "metadata": {},
   "source": []
  },
  {
   "cell_type": "markdown",
   "id": "d066a5d4",
   "metadata": {},
   "source": []
  },
  {
   "cell_type": "markdown",
   "id": "12585750",
   "metadata": {},
   "source": []
  },
  {
   "cell_type": "markdown",
   "id": "ba4bfec9",
   "metadata": {},
   "source": []
  },
  {
   "cell_type": "markdown",
   "id": "a3f3b6a5",
   "metadata": {},
   "source": []
  },
  {
   "cell_type": "markdown",
   "id": "8b94540a",
   "metadata": {},
   "source": []
  },
  {
   "cell_type": "markdown",
   "id": "38fb29eb",
   "metadata": {},
   "source": []
  },
  {
   "cell_type": "markdown",
   "id": "5f14e9a1",
   "metadata": {},
   "source": []
  },
  {
   "cell_type": "markdown",
   "id": "1407706d",
   "metadata": {},
   "source": []
  },
  {
   "cell_type": "markdown",
   "id": "dc12d37e",
   "metadata": {},
   "source": []
  },
  {
   "cell_type": "markdown",
   "id": "44192403",
   "metadata": {},
   "source": []
  },
  {
   "cell_type": "markdown",
   "id": "fdcfd4a1",
   "metadata": {},
   "source": []
  },
  {
   "cell_type": "markdown",
   "id": "70ae0403",
   "metadata": {},
   "source": []
  },
  {
   "cell_type": "markdown",
   "id": "3578aaae",
   "metadata": {},
   "source": []
  },
  {
   "cell_type": "markdown",
   "id": "ceb0a62e",
   "metadata": {},
   "source": []
  }
 ],
 "metadata": {
  "kernelspec": {
   "display_name": "Python 3 (ipykernel)",
   "language": "python",
   "name": "python3"
  },
  "language_info": {
   "codemirror_mode": {
    "name": "ipython",
    "version": 3
   },
   "file_extension": ".py",
   "mimetype": "text/x-python",
   "name": "python",
   "nbconvert_exporter": "python",
   "pygments_lexer": "ipython3",
   "version": "3.11.3"
  }
 },
 "nbformat": 4,
 "nbformat_minor": 5
}
